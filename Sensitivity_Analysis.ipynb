{
 "cells": [
  {
   "cell_type": "code",
   "execution_count": 1,
   "metadata": {
    "scrolled": true
   },
   "outputs": [
    {
     "name": "stderr",
     "output_type": "stream",
     "text": [
      "C:\\Users\\nagar\\Anaconda3\\lib\\site-packages\\sklearn\\ensemble\\weight_boosting.py:29: DeprecationWarning: numpy.core.umath_tests is an internal NumPy module and should not be imported. It will be removed in a future NumPy release.\n",
      "  from numpy.core.umath_tests import inner1d\n"
     ]
    }
   ],
   "source": [
    "import pandas as pd\n",
    "import numpy as np\n",
    "from sklearn.model_selection import train_test_split\n",
    "from sklearn.ensemble import RandomForestClassifier\n",
    "from sklearn.model_selection import cross_validate\n",
    "from sklearn.model_selection import cross_val_score\n",
    "from sklearn.metrics import roc_auc_score,accuracy_score\n",
    "from sklearn.calibration import CalibratedClassifierCV, calibration_curve\n",
    "from matplotlib import pyplot as plt\n",
    "from skopt.space import Integer, Categorical, Real\n",
    "from skopt.utils import use_named_args\n",
    "from skopt import gp_minimize"
   ]
  },
  {
   "cell_type": "code",
   "execution_count": 2,
   "metadata": {},
   "outputs": [
    {
     "name": "stdout",
     "output_type": "stream",
     "text": [
      "['age', 'ELIX1', 'ELIX2', 'ELIX3', 'ELIX4', 'ELIX5', 'ELIX6', 'ELIX7', 'ELIX8', 'ELIX9', 'ELIX10', 'ELIX11', 'ELIX12', 'ELIX13', 'ELIX14', 'ELIX15', 'ELIX16', 'ELIX17', 'ELIX18', 'ELIX19', 'ELIX20', 'ELIX21', 'ELIX22', 'ELIX23', 'ELIX24', 'ELIX25', 'ELIX26', 'ELIX27', 'ELIX28', 'ELIX29', 'G-2', 'G-3', 'G-4', 'G-5', 'G-6', 'G-7', 'G-8', 'G-9', 'G-10', 'G-11', 'G-12', 'G-13', 'G-14', 'G-15', 'G-16', 'G-17', 'G-18', 'G-19', 'G-20', 'G-21', 'G-22', 'G-23', 'drugs_m0-1', 'drugs_m1-2', 'drugs_m2-3', 'drugs_m3-4', 'drugs_m4-5', 'drugs_m5-6', 'drugs_m6-7', 'drugs_m7-8', 'drugs_m8-9', 'drugs_m9-10', 'drugs_m10-11', 'drugs_m11-12', 'A', 'Am.N', 'B', 'H', 'O', 'U', 'W']\n"
     ]
    }
   ],
   "source": [
    "df=pd.read_csv('highUtilizationPredictionV2wco.csv')\n",
    "race_dummies=pd.get_dummies(df['race'])\n",
    "newdf=pd.concat([df,race_dummies],axis=1)\n",
    "tr, ts = train_test_split(newdf, test_size=0.2)\n",
    "# create list of input attributes\n",
    "cls = list(newdf.columns)\n",
    "cls.remove('race')\n",
    "cls.remove('patient_id')\n",
    "cls.remove('claimCount')\n",
    "cls.remove('HighUtilizationY2')\n",
    "print(cls)"
   ]
  },
  {
   "cell_type": "code",
   "execution_count": 3,
   "metadata": {},
   "outputs": [
    {
     "data": {
      "text/plain": [
       "RandomForestClassifier(bootstrap=True, class_weight=None, criterion='gini',\n",
       "            max_depth=None, max_features='auto', max_leaf_nodes=None,\n",
       "            min_impurity_decrease=0.0, min_impurity_split=None,\n",
       "            min_samples_leaf=1, min_samples_split=2,\n",
       "            min_weight_fraction_leaf=0.0, n_estimators=100, n_jobs=-1,\n",
       "            oob_score=False, random_state=None, verbose=0,\n",
       "            warm_start=False)"
      ]
     },
     "execution_count": 3,
     "metadata": {},
     "output_type": "execute_result"
    }
   ],
   "source": [
    "rf = RandomForestClassifier(n_estimators=100, n_jobs=-1)\n",
    "rf.fit(tr[cls], tr['HighUtilizationY2'])"
   ]
  },
  {
   "cell_type": "code",
   "execution_count": 4,
   "metadata": {},
   "outputs": [
    {
     "data": {
      "text/plain": [
       "0.7980931900738573"
      ]
     },
     "execution_count": 4,
     "metadata": {},
     "output_type": "execute_result"
    }
   ],
   "source": [
    "probs_rf_tr = rf.predict_proba(tr[cls])[:,1]\n",
    "probs_rf_ts = rf.predict_proba(ts[cls])[:,1]\n",
    "roc_auc_score(ts['HighUtilizationY2'], probs_rf_ts)"
   ]
  },
  {
   "cell_type": "code",
   "execution_count": 5,
   "metadata": {},
   "outputs": [],
   "source": [
    "# Q1 removing all the claims which have claim count in the range of +/- 10 of 100.\n",
    "ts1=ts[ts['claimCount']<90]\n",
    "ts2=ts[ts['claimCount']>110]\n",
    "new_ts=pd.concat([ts1,ts2])\n",
    "probs_rf_newts = rf.predict_proba(new_ts[cls])[:,1]"
   ]
  },
  {
   "cell_type": "code",
   "execution_count": 6,
   "metadata": {},
   "outputs": [
    {
     "data": {
      "text/plain": [
       "Text(0.5,1,'Accuracy Vs Claim count (including claims around 100)')"
      ]
     },
     "execution_count": 6,
     "metadata": {},
     "output_type": "execute_result"
    },
    {
     "data": {
      "image/png": "[encoded data removed]",
      "text/plain": [
       "<Figure size 432x288 with 1 Axes>"
      ]
     },
     "metadata": {},
     "output_type": "display_data"
    }
   ],
   "source": [
    "#accuracy\n",
    "dist = []\n",
    "for cnt in range(0,300,10):\n",
    "    tt = ts[(ts['claimCount'] >= cnt) & (ts['claimCount'] < cnt + 10)]\n",
    "    pred=cross_validate(rf, tt[cls], tt['HighUtilizationY2'], scoring=['accuracy'], cv=10)\n",
    "    dist.append(np.mean(pred['test_accuracy']))\n",
    "plt.bar(range(0,300,10), dist)\n",
    "plt.xlabel('Claim Count')\n",
    "plt.ylabel('Accuracy')\n",
    "plt.title('Accuracy Vs Claim count (including claims around 100)')"
   ]
  },
  {
   "cell_type": "code",
   "execution_count": 7,
   "metadata": {},
   "outputs": [
    {
     "data": {
      "text/plain": [
       "Text(0.5,1,'Accuracy Vs Claim count(excluding claims in the range of +/-10 of 100 )')"
      ]
     },
     "execution_count": 7,
     "metadata": {},
     "output_type": "execute_result"
    },
    {
     "data": {
      "image/png": "[encoded data removed]",
      "text/plain": [
       "<Figure size 432x288 with 1 Axes>"
      ]
     },
     "metadata": {},
     "output_type": "display_data"
    }
   ],
   "source": [
    "#accuracy\n",
    "dist = []\n",
    "for cnt in range(0,300,10):\n",
    "    if cnt!=90 and cnt!=100:\n",
    "        tt = new_ts[(new_ts['claimCount'] >= cnt) & (new_ts['claimCount'] < cnt + 10)]\n",
    "        pred=cross_validate(rf, tt[cls], tt['HighUtilizationY2'], scoring=['accuracy'], cv=10)\n",
    "        dist.append(np.mean(pred['test_accuracy']))\n",
    "    else:\n",
    "        dist.append(0)\n",
    "    \n",
    "plt.bar(range(0,300,10), dist)\n",
    "plt.xlabel('Claim Count')\n",
    "plt.ylabel('Accuracy')\n",
    "plt.title('Accuracy Vs Claim count(excluding claims in the range of +/-10 of 100 )')"
   ]
  },
  {
   "cell_type": "code",
   "execution_count": 8,
   "metadata": {},
   "outputs": [
    {
     "data": {
      "text/plain": [
       "Text(0.5,1,'Probability Vs Claim count (includes all the claims)')"
      ]
     },
     "execution_count": 8,
     "metadata": {},
     "output_type": "execute_result"
    },
    {
     "data": {
      "image/png": "[encoded data removed]",
      "text/plain": [
       "<Figure size 432x288 with 1 Axes>"
      ]
     },
     "metadata": {},
     "output_type": "display_data"
    }
   ],
   "source": [
    "#Plot against the probability\n",
    "dist = []\n",
    "for cnt in range(0,300,10):\n",
    "    tt = ts[(ts['claimCount'] >= cnt) & (ts['claimCount'] < cnt + 10)]\n",
    "    dist.append( rf.predict_proba(tt[cls])[:,1].mean())\n",
    "plt.bar(range(0,300,10), dist)\n",
    "plt.xlabel('Claim Count')\n",
    "plt.ylabel('Probability')\n",
    "plt.title('Probability Vs Claim count (includes all the claims)')"
   ]
  },
  {
   "cell_type": "code",
   "execution_count": 9,
   "metadata": {},
   "outputs": [
    {
     "data": {
      "text/plain": [
       "Text(0.5,1,'Probability Vs Claim count(excludes claims +/- 10 of 100)')"
      ]
     },
     "execution_count": 9,
     "metadata": {},
     "output_type": "execute_result"
    },
    {
     "data": {
      "image/png": "[encoded data removed]",
      "text/plain": [
       "<Figure size 432x288 with 1 Axes>"
      ]
     },
     "metadata": {},
     "output_type": "display_data"
    }
   ],
   "source": [
    "#Plot against the probability\n",
    "dist = []\n",
    "for cnt in range(0,300,10):\n",
    "    if cnt!=90 and cnt!=100:\n",
    "        tt = new_ts[(new_ts['claimCount'] >= cnt) & (new_ts['claimCount'] < cnt + 10)]\n",
    "        pred=rf.predict_proba(tt[cls])[:,1]\n",
    "        dist.append( pred.mean())\n",
    "    else:\n",
    "        dist.append(0)\n",
    "    \n",
    "plt.bar(range(0,300,10), dist)\n",
    "plt.xlabel('Claim Count')\n",
    "plt.ylabel('Probability')\n",
    "plt.title('Probability Vs Claim count(excludes claims +/- 10 of 100)')"
   ]
  },
  {
   "cell_type": "markdown",
   "metadata": {},
   "source": [
    "\n",
    "Global Sensitivity Analysis"
   ]
  },
  {
   "cell_type": "code",
   "execution_count": 10,
   "metadata": {},
   "outputs": [],
   "source": [
    "# Function for global sensitivity analysis\n",
    "\n",
    "def global_sensitivity(var,x,ts,tr,rf):\n",
    "    dist = []\n",
    "    dist1 = []\n",
    "    for a in list(x):\n",
    "        tt = pd.DataFrame(ts)\n",
    "        tt[var] = a\n",
    "        ttt = pd.DataFrame(tr)\n",
    "        ttt[var] = a\n",
    "        dist.append( rf.predict_proba(tt[cls])[:,1].mean())\n",
    "        dist1.append( rf.predict_proba(ttt[cls])[:,1].mean())\n",
    "    return dist,dist1"
   ]
  },
  {
   "cell_type": "code",
   "execution_count": 11,
   "metadata": {},
   "outputs": [
    {
     "data": {
      "text/plain": [
       "Text(0,0.5,'Probability')"
      ]
     },
     "execution_count": 11,
     "metadata": {},
     "output_type": "execute_result"
    },
    {
     "data": {
      "image/png": "[encoded data removed]",
      "text/plain": [
       "<Figure size 432x288 with 1 Axes>"
      ]
     },
     "metadata": {},
     "output_type": "display_data"
    }
   ],
   "source": [
    "f_val=rf.feature_importances_\n",
    "f_name=ts[cls].columns\n",
    "features=pd.DataFrame()\n",
    "features['f_name']=f_name\n",
    "features['f_val']=f_val\n",
    "features=features.sort_values('f_val',ascending=False)\n",
    "features=features.reset_index()\n",
    "x=ts[features['f_name'][0]].unique()\n",
    "x.sort()\n",
    "x\n",
    "dist,dist1=global_sensitivity(features['f_name'][0],x,ts,tr,rf)\n",
    "plt.plot(list(x),dist)\n",
    "plt.plot(list(x),dist1) \n",
    "plt.xlabel('Age')\n",
    "plt.ylabel('Probability')"
   ]
  },
  {
   "cell_type": "code",
   "execution_count": 12,
   "metadata": {},
   "outputs": [],
   "source": [
    "# my code for data genration\n",
    "import random\n",
    "'''\n",
    "The code requires var  which is the most important feature of the data and for every unique value of this feature 100 observation are genrated\n",
    "Here, the most important variable is 'age', for every value of age we are generating 100 different combinations by identifying the unique values of the feature and randomly chosing a value.\n",
    "The other requirement is the dataset and the list of features on which classifier is predicting.\n",
    "'''\n",
    "def data_generation(var,ts,cls):\n",
    "    d=[]\n",
    "    imp=ts[var].unique()\n",
    "    imp.sort()\n",
    "    col=list(ts[cls].columns)\n",
    "    col.remove(var)\n",
    "    for k in imp:\n",
    "        for j in range(100):\n",
    "            l=[]\n",
    "            l.append(k)\n",
    "            for i in col:\n",
    "                x=list(ts[i].unique())\n",
    "                if x!=len(ts):\n",
    "                    l.append(random.choice(x))\n",
    "                elif all(x.is_integer() for x in ts.i) ==True:\n",
    "                    l.append(random.randint(min(ts[i]),max(ts[i])))\n",
    "                elif all(x.is_integer() for x in ts.i) !=True:\n",
    "                    l.append(random.uniform(min(ts[i]),max(ts[i])))\n",
    "            d.append(l)\n",
    "    return d"
   ]
  },
  {
   "cell_type": "code",
   "execution_count": 13,
   "metadata": {
    "scrolled": true
   },
   "outputs": [
    {
     "data": {
      "text/plain": [
       "Text(0,0.5,'Probability')"
      ]
     },
     "execution_count": 13,
     "metadata": {},
     "output_type": "execute_result"
    },
    {
     "data": {
      "image/png": "[encoded data removed]",
      "text/plain": [
       "<Figure size 432x288 with 1 Axes>"
      ]
     },
     "metadata": {},
     "output_type": "display_data"
    }
   ],
   "source": [
    "tr, ts = train_test_split(newdf, test_size=0.2)\n",
    "var=features['f_name'][0]\n",
    "d=data_generation(var,ts,cls)\n",
    "Y = rf.predict_proba(d)[:,1]\n",
    "X = np.array(d)[:,0]\n",
    "ddd = pd.DataFrame(X, columns=[var])\n",
    "ddd['prob'] = Y\n",
    "YY = ddd.groupby(var).mean()\n",
    "XX = range(min(ts[var]),max(ts[var])+1)\n",
    "plt.plot(XX,YY)\n",
    "plt.xlabel('Age')\n",
    "plt.ylabel('Probability')\n",
    "#(ddd.loc[ddd['age']==70]['prob']).mean()"
   ]
  },
  {
   "cell_type": "markdown",
   "metadata": {},
   "source": [
    "local sensitivity analysis\n",
    "\n",
    "\n"
   ]
  },
  {
   "cell_type": "code",
   "execution_count": 14,
   "metadata": {},
   "outputs": [],
   "source": [
    "# This is custom implementation of local sensitivity analysis function.\n",
    "# cls is list of columns/features which are used for classification by the classifier\n",
    "# test is test dataframe for analyzing binary or numeric columns \n",
    "# var is the name of the feature for which sensitivity analysis cannot be performed. \n",
    "# this feature is removed from list of columns while generating the new dataset but used later for predicting probabilities\n",
    "# The list of columns should contain all the columns required for predicting and var should contain the features whhich need to be removed while genrating new dataset.\n",
    "#test_case should be in data frame format and its probability should given in order to generate a difference.\n",
    "def local_sensitivity(test,cls,var,test_case,case_prob,classifier):\n",
    "    df=test[cls]\n",
    "    col=list(df.columns)\n",
    "    col.remove(var)\n",
    "    d=pd.DataFrame()\n",
    "    for i in col:\n",
    "        x=list(df[i].unique())\n",
    "        new_case=test_case.copy()\n",
    "        new_case['feature_changed']=i\n",
    "        if x!=len(df) and len(x)==2:\n",
    "            if new_case[i]==x[0]:\n",
    "                new_case['value_before']=x[0]\n",
    "                new_case[i]=x[1]\n",
    "                new_case['value_after_change']=new_case[i]\n",
    "                d=d.append(new_case)\n",
    "            else:\n",
    "                new_case['value_before']=x[1]\n",
    "                new_case[i]=x[0]\n",
    "                new_case['value_after_change']=new_case[i]\n",
    "                d=d.append(new_case)\n",
    "        if x!=len(df) and len(x)>2:\n",
    "            avg=df[i].mean()\n",
    "            stdev=df[i].std()\n",
    "            new_case['value_before']=new_case[i]\n",
    "            if new_case[i]>avg:\n",
    "                new_case[i]=new_case[i]-int(stdev)\n",
    "                new_case['value_after_change']=new_case[i]\n",
    "                d=d.append(new_case) \n",
    "            if new_case[i]<avg:\n",
    "                new_case[i]=new_case[i]+int(stdev)\n",
    "                new_case['value_after_change']=new_case[i]\n",
    "                d=d.append(new_case)\n",
    "    new_prob=classifier.predict_proba(d[cls])\n",
    "    d1 = pd.DataFrame(d[['feature_changed','value_before','value_after_change']])\n",
    "    d1['prob'] = new_prob[:,1]\n",
    "    d1['change'] = new_prob[:,1] - case_prob\n",
    "    return d1"
   ]
  },
  {
   "cell_type": "code",
   "execution_count": 15,
   "metadata": {},
   "outputs": [
    {
     "name": "stdout",
     "output_type": "stream",
     "text": [
      "(array([  357,   408,   420,   855,   861,   898,  1057,  1374,  1399,\n",
      "        1610,  1851,  1894,  2554,  2569,  2672,  2748,  2831,  2929,\n",
      "        3184,  3334,  3426,  3607,  3683,  3694,  3708,  3792,  4069,\n",
      "        4291,  4321,  4509,  4520,  4842,  5014,  5031,  5071,  5089,\n",
      "        5166,  5240,  5334,  5347,  5478,  5524,  5551,  5631,  5742,\n",
      "        5802,  5868,  5893,  6203,  6550,  6625,  6736,  6908,  6922,\n",
      "        7239,  7601,  7610,  7698,  8153,  8239,  8576,  8610,  8656,\n",
      "        8739,  9103,  9247,  9259,  9283,  9717, 10007, 10227, 10356,\n",
      "       10366, 10592, 10638, 10663, 10722, 10755, 10803, 10849, 11173,\n",
      "       11251, 11306, 11357, 11507, 11627, 11657, 11886, 11925, 12068,\n",
      "       12319, 12426, 12469, 12583, 12599, 12700, 13184, 13186, 13205,\n",
      "       13357, 13469, 13627, 13856, 14092, 14249, 14462, 14466, 14506,\n",
      "       14563, 14574, 14731, 14824, 15336, 15486, 15546, 15592, 15732,\n",
      "       15743, 16035, 16115, 16642, 16725, 16766, 16774, 16838, 16871,\n",
      "       16876, 17001, 17248, 17299, 17921, 17946, 18035, 18042, 18072,\n",
      "       18123, 18383, 18400, 18434, 18537, 18550, 18867, 18883, 18942,\n",
      "       18966, 19417, 19420, 19457, 19532, 19570, 19912, 20086, 20165,\n",
      "       20242, 20436, 20682, 20903, 21035, 21087, 21635, 21837, 21861,\n",
      "       21974, 22072, 22106, 22423, 22463, 22561, 22577], dtype=int64),)\n"
     ]
    }
   ],
   "source": [
    "# for case with high probability\n",
    "prob=rf.predict_proba(ts[cls])[:,1]\n",
    "cases=np.where(prob > 0.8)\n",
    "print(cases)"
   ]
  },
  {
   "cell_type": "code",
   "execution_count": 16,
   "metadata": {
    "scrolled": true
   },
   "outputs": [],
   "source": [
    "case_prob=prob[18434]\n",
    "test_case = ts.iloc[18434]\n",
    "var='age'\n",
    "test=ts\n",
    "dat=local_sensitivity(test,cls,var,test_case,case_prob,rf)"
   ]
  },
  {
   "cell_type": "code",
   "execution_count": 17,
   "metadata": {},
   "outputs": [
    {
     "data": {
      "text/html": [
       "<div>\n",
       "<style scoped>\n",
       "    .dataframe tbody tr th:only-of-type {\n",
       "        vertical-align: middle;\n",
       "    }\n",
       "\n",
       "    .dataframe tbody tr th {\n",
       "        vertical-align: top;\n",
       "    }\n",
       "\n",
       "    .dataframe thead th {\n",
       "        text-align: right;\n",
       "    }\n",
       "</style>\n",
       "<table border=\"1\" class=\"dataframe\">\n",
       "  <thead>\n",
       "    <tr style=\"text-align: right;\">\n",
       "      <th></th>\n",
       "      <th>feature_changed</th>\n",
       "      <th>value_before</th>\n",
       "      <th>value_after_change</th>\n",
       "      <th>prob</th>\n",
       "      <th>change</th>\n",
       "    </tr>\n",
       "  </thead>\n",
       "  <tbody>\n",
       "    <tr>\n",
       "      <th>21689</th>\n",
       "      <td>ELIX6</td>\n",
       "      <td>1.0</td>\n",
       "      <td>0.0</td>\n",
       "      <td>0.21</td>\n",
       "      <td>-0.64</td>\n",
       "    </tr>\n",
       "    <tr>\n",
       "      <th>21689</th>\n",
       "      <td>ELIX14</td>\n",
       "      <td>1.0</td>\n",
       "      <td>0.0</td>\n",
       "      <td>0.29</td>\n",
       "      <td>-0.56</td>\n",
       "    </tr>\n",
       "    <tr>\n",
       "      <th>21689</th>\n",
       "      <td>G-22</td>\n",
       "      <td>1.0</td>\n",
       "      <td>0.0</td>\n",
       "      <td>0.35</td>\n",
       "      <td>-0.50</td>\n",
       "    </tr>\n",
       "    <tr>\n",
       "      <th>21689</th>\n",
       "      <td>G-12</td>\n",
       "      <td>1.0</td>\n",
       "      <td>0.0</td>\n",
       "      <td>0.48</td>\n",
       "      <td>-0.37</td>\n",
       "    </tr>\n",
       "    <tr>\n",
       "      <th>21689</th>\n",
       "      <td>ELIX22</td>\n",
       "      <td>0.0</td>\n",
       "      <td>1.0</td>\n",
       "      <td>0.59</td>\n",
       "      <td>-0.26</td>\n",
       "    </tr>\n",
       "    <tr>\n",
       "      <th>21689</th>\n",
       "      <td>G-7</td>\n",
       "      <td>1.0</td>\n",
       "      <td>0.0</td>\n",
       "      <td>0.62</td>\n",
       "      <td>-0.23</td>\n",
       "    </tr>\n",
       "    <tr>\n",
       "      <th>21689</th>\n",
       "      <td>G-21</td>\n",
       "      <td>1.0</td>\n",
       "      <td>0.0</td>\n",
       "      <td>0.64</td>\n",
       "      <td>-0.21</td>\n",
       "    </tr>\n",
       "    <tr>\n",
       "      <th>21689</th>\n",
       "      <td>ELIX13</td>\n",
       "      <td>0.0</td>\n",
       "      <td>1.0</td>\n",
       "      <td>0.64</td>\n",
       "      <td>-0.21</td>\n",
       "    </tr>\n",
       "    <tr>\n",
       "      <th>21689</th>\n",
       "      <td>ELIX21</td>\n",
       "      <td>0.0</td>\n",
       "      <td>1.0</td>\n",
       "      <td>0.65</td>\n",
       "      <td>-0.20</td>\n",
       "    </tr>\n",
       "    <tr>\n",
       "      <th>21689</th>\n",
       "      <td>ELIX18</td>\n",
       "      <td>1.0</td>\n",
       "      <td>0.0</td>\n",
       "      <td>0.66</td>\n",
       "      <td>-0.19</td>\n",
       "    </tr>\n",
       "  </tbody>\n",
       "</table>\n",
       "</div>"
      ],
      "text/plain": [
       "      feature_changed  value_before  value_after_change  prob  change\n",
       "21689           ELIX6           1.0                 0.0  0.21   -0.64\n",
       "21689          ELIX14           1.0                 0.0  0.29   -0.56\n",
       "21689            G-22           1.0                 0.0  0.35   -0.50\n",
       "21689            G-12           1.0                 0.0  0.48   -0.37\n",
       "21689          ELIX22           0.0                 1.0  0.59   -0.26\n",
       "21689             G-7           1.0                 0.0  0.62   -0.23\n",
       "21689            G-21           1.0                 0.0  0.64   -0.21\n",
       "21689          ELIX13           0.0                 1.0  0.64   -0.21\n",
       "21689          ELIX21           0.0                 1.0  0.65   -0.20\n",
       "21689          ELIX18           1.0                 0.0  0.66   -0.19"
      ]
     },
     "execution_count": 17,
     "metadata": {},
     "output_type": "execute_result"
    }
   ],
   "source": [
    "# features which decrease the probability \n",
    "dat[dat['change']<0.00].sort_values('change')[:10] "
   ]
  },
  {
   "cell_type": "code",
   "execution_count": 18,
   "metadata": {},
   "outputs": [
    {
     "data": {
      "text/html": [
       "<div>\n",
       "<style scoped>\n",
       "    .dataframe tbody tr th:only-of-type {\n",
       "        vertical-align: middle;\n",
       "    }\n",
       "\n",
       "    .dataframe tbody tr th {\n",
       "        vertical-align: top;\n",
       "    }\n",
       "\n",
       "    .dataframe thead th {\n",
       "        text-align: right;\n",
       "    }\n",
       "</style>\n",
       "<table border=\"1\" class=\"dataframe\">\n",
       "  <thead>\n",
       "    <tr style=\"text-align: right;\">\n",
       "      <th></th>\n",
       "      <th>feature_changed</th>\n",
       "      <th>value_before</th>\n",
       "      <th>value_after_change</th>\n",
       "      <th>prob</th>\n",
       "      <th>change</th>\n",
       "    </tr>\n",
       "  </thead>\n",
       "  <tbody>\n",
       "    <tr>\n",
       "      <th>21689</th>\n",
       "      <td>ELIX2</td>\n",
       "      <td>0.0</td>\n",
       "      <td>1.0</td>\n",
       "      <td>0.86</td>\n",
       "      <td>0.01</td>\n",
       "    </tr>\n",
       "    <tr>\n",
       "      <th>21689</th>\n",
       "      <td>G-20</td>\n",
       "      <td>0.0</td>\n",
       "      <td>1.0</td>\n",
       "      <td>0.86</td>\n",
       "      <td>0.01</td>\n",
       "    </tr>\n",
       "  </tbody>\n",
       "</table>\n",
       "</div>"
      ],
      "text/plain": [
       "      feature_changed  value_before  value_after_change  prob  change\n",
       "21689           ELIX2           0.0                 1.0  0.86    0.01\n",
       "21689            G-20           0.0                 1.0  0.86    0.01"
      ]
     },
     "execution_count": 18,
     "metadata": {},
     "output_type": "execute_result"
    }
   ],
   "source": [
    "# features which increase the probability\n",
    "dat[dat['change']>0.00].sort_values('change',ascending=False)[:10]  "
   ]
  },
  {
   "cell_type": "code",
   "execution_count": 19,
   "metadata": {},
   "outputs": [
    {
     "name": "stdout",
     "output_type": "stream",
     "text": [
      "(array([    1,     2,     3, ..., 22602, 22603, 22604], dtype=int64),)\n"
     ]
    }
   ],
   "source": [
    "# for test case with low probability\n",
    "prob=rf.predict_proba(ts[cls])[:,1]\n",
    "cases=np.where(prob < 0.2)\n",
    "print(cases)\n"
   ]
  },
  {
   "cell_type": "code",
   "execution_count": 27,
   "metadata": {},
   "outputs": [],
   "source": [
    "case_prob=prob[22604]\n",
    "test_case = ts.iloc[22604]\n",
    "var='age'\n",
    "test=ts\n",
    "dat=local_sensitivity(test,cls,var,test_case,case_prob,rf)\n"
   ]
  },
  {
   "cell_type": "code",
   "execution_count": 28,
   "metadata": {},
   "outputs": [
    {
     "data": {
      "text/html": [
       "<div>\n",
       "<style scoped>\n",
       "    .dataframe tbody tr th:only-of-type {\n",
       "        vertical-align: middle;\n",
       "    }\n",
       "\n",
       "    .dataframe tbody tr th {\n",
       "        vertical-align: top;\n",
       "    }\n",
       "\n",
       "    .dataframe thead th {\n",
       "        text-align: right;\n",
       "    }\n",
       "</style>\n",
       "<table border=\"1\" class=\"dataframe\">\n",
       "  <thead>\n",
       "    <tr style=\"text-align: right;\">\n",
       "      <th></th>\n",
       "      <th>feature_changed</th>\n",
       "      <th>value_before</th>\n",
       "      <th>value_after_change</th>\n",
       "      <th>prob</th>\n",
       "      <th>change</th>\n",
       "    </tr>\n",
       "  </thead>\n",
       "  <tbody>\n",
       "    <tr>\n",
       "      <th>45362</th>\n",
       "      <td>G-2</td>\n",
       "      <td>1.0</td>\n",
       "      <td>0.0</td>\n",
       "      <td>0.00</td>\n",
       "      <td>-0.04</td>\n",
       "    </tr>\n",
       "    <tr>\n",
       "      <th>45362</th>\n",
       "      <td>ELIX13</td>\n",
       "      <td>1.0</td>\n",
       "      <td>0.0</td>\n",
       "      <td>0.01</td>\n",
       "      <td>-0.03</td>\n",
       "    </tr>\n",
       "    <tr>\n",
       "      <th>45362</th>\n",
       "      <td>ELIX24</td>\n",
       "      <td>0.0</td>\n",
       "      <td>1.0</td>\n",
       "      <td>0.01</td>\n",
       "      <td>-0.03</td>\n",
       "    </tr>\n",
       "    <tr>\n",
       "      <th>45362</th>\n",
       "      <td>G-12</td>\n",
       "      <td>1.0</td>\n",
       "      <td>0.0</td>\n",
       "      <td>0.01</td>\n",
       "      <td>-0.03</td>\n",
       "    </tr>\n",
       "    <tr>\n",
       "      <th>45362</th>\n",
       "      <td>G-17</td>\n",
       "      <td>1.0</td>\n",
       "      <td>0.0</td>\n",
       "      <td>0.01</td>\n",
       "      <td>-0.03</td>\n",
       "    </tr>\n",
       "    <tr>\n",
       "      <th>45362</th>\n",
       "      <td>ELIX4</td>\n",
       "      <td>0.0</td>\n",
       "      <td>1.0</td>\n",
       "      <td>0.02</td>\n",
       "      <td>-0.02</td>\n",
       "    </tr>\n",
       "    <tr>\n",
       "      <th>45362</th>\n",
       "      <td>ELIX27</td>\n",
       "      <td>1.0</td>\n",
       "      <td>0.0</td>\n",
       "      <td>0.02</td>\n",
       "      <td>-0.02</td>\n",
       "    </tr>\n",
       "    <tr>\n",
       "      <th>45362</th>\n",
       "      <td>G-22</td>\n",
       "      <td>1.0</td>\n",
       "      <td>0.0</td>\n",
       "      <td>0.02</td>\n",
       "      <td>-0.02</td>\n",
       "    </tr>\n",
       "    <tr>\n",
       "      <th>45362</th>\n",
       "      <td>ELIX18</td>\n",
       "      <td>0.0</td>\n",
       "      <td>1.0</td>\n",
       "      <td>0.03</td>\n",
       "      <td>-0.01</td>\n",
       "    </tr>\n",
       "    <tr>\n",
       "      <th>45362</th>\n",
       "      <td>G-5</td>\n",
       "      <td>0.0</td>\n",
       "      <td>1.0</td>\n",
       "      <td>0.03</td>\n",
       "      <td>-0.01</td>\n",
       "    </tr>\n",
       "  </tbody>\n",
       "</table>\n",
       "</div>"
      ],
      "text/plain": [
       "      feature_changed  value_before  value_after_change  prob  change\n",
       "45362             G-2           1.0                 0.0  0.00   -0.04\n",
       "45362          ELIX13           1.0                 0.0  0.01   -0.03\n",
       "45362          ELIX24           0.0                 1.0  0.01   -0.03\n",
       "45362            G-12           1.0                 0.0  0.01   -0.03\n",
       "45362            G-17           1.0                 0.0  0.01   -0.03\n",
       "45362           ELIX4           0.0                 1.0  0.02   -0.02\n",
       "45362          ELIX27           1.0                 0.0  0.02   -0.02\n",
       "45362            G-22           1.0                 0.0  0.02   -0.02\n",
       "45362          ELIX18           0.0                 1.0  0.03   -0.01\n",
       "45362             G-5           0.0                 1.0  0.03   -0.01"
      ]
     },
     "execution_count": 28,
     "metadata": {},
     "output_type": "execute_result"
    }
   ],
   "source": [
    " # features which decrease the probability \n",
    "dat[dat['change']<0.00].sort_values('change')[:10]  "
   ]
  },
  {
   "cell_type": "code",
   "execution_count": 29,
   "metadata": {},
   "outputs": [
    {
     "data": {
      "text/html": [
       "<div>\n",
       "<style scoped>\n",
       "    .dataframe tbody tr th:only-of-type {\n",
       "        vertical-align: middle;\n",
       "    }\n",
       "\n",
       "    .dataframe tbody tr th {\n",
       "        vertical-align: top;\n",
       "    }\n",
       "\n",
       "    .dataframe thead th {\n",
       "        text-align: right;\n",
       "    }\n",
       "</style>\n",
       "<table border=\"1\" class=\"dataframe\">\n",
       "  <thead>\n",
       "    <tr style=\"text-align: right;\">\n",
       "      <th></th>\n",
       "      <th>feature_changed</th>\n",
       "      <th>value_before</th>\n",
       "      <th>value_after_change</th>\n",
       "      <th>prob</th>\n",
       "      <th>change</th>\n",
       "    </tr>\n",
       "  </thead>\n",
       "  <tbody>\n",
       "    <tr>\n",
       "      <th>45362</th>\n",
       "      <td>ELIX10</td>\n",
       "      <td>0.0</td>\n",
       "      <td>1.0</td>\n",
       "      <td>0.37</td>\n",
       "      <td>0.33</td>\n",
       "    </tr>\n",
       "    <tr>\n",
       "      <th>45362</th>\n",
       "      <td>ELIX22</td>\n",
       "      <td>0.0</td>\n",
       "      <td>1.0</td>\n",
       "      <td>0.29</td>\n",
       "      <td>0.25</td>\n",
       "    </tr>\n",
       "    <tr>\n",
       "      <th>45362</th>\n",
       "      <td>ELIX21</td>\n",
       "      <td>0.0</td>\n",
       "      <td>1.0</td>\n",
       "      <td>0.25</td>\n",
       "      <td>0.21</td>\n",
       "    </tr>\n",
       "    <tr>\n",
       "      <th>45362</th>\n",
       "      <td>ELIX14</td>\n",
       "      <td>0.0</td>\n",
       "      <td>1.0</td>\n",
       "      <td>0.20</td>\n",
       "      <td>0.16</td>\n",
       "    </tr>\n",
       "    <tr>\n",
       "      <th>45362</th>\n",
       "      <td>ELIX1</td>\n",
       "      <td>0.0</td>\n",
       "      <td>1.0</td>\n",
       "      <td>0.19</td>\n",
       "      <td>0.15</td>\n",
       "    </tr>\n",
       "    <tr>\n",
       "      <th>45362</th>\n",
       "      <td>G-7</td>\n",
       "      <td>0.0</td>\n",
       "      <td>1.0</td>\n",
       "      <td>0.17</td>\n",
       "      <td>0.13</td>\n",
       "    </tr>\n",
       "    <tr>\n",
       "      <th>45362</th>\n",
       "      <td>ELIX29</td>\n",
       "      <td>0.0</td>\n",
       "      <td>1.0</td>\n",
       "      <td>0.14</td>\n",
       "      <td>0.10</td>\n",
       "    </tr>\n",
       "    <tr>\n",
       "      <th>45362</th>\n",
       "      <td>ELIX9</td>\n",
       "      <td>0.0</td>\n",
       "      <td>1.0</td>\n",
       "      <td>0.12</td>\n",
       "      <td>0.08</td>\n",
       "    </tr>\n",
       "    <tr>\n",
       "      <th>45362</th>\n",
       "      <td>ELIX3</td>\n",
       "      <td>0.0</td>\n",
       "      <td>1.0</td>\n",
       "      <td>0.11</td>\n",
       "      <td>0.07</td>\n",
       "    </tr>\n",
       "    <tr>\n",
       "      <th>45362</th>\n",
       "      <td>ELIX6</td>\n",
       "      <td>0.0</td>\n",
       "      <td>1.0</td>\n",
       "      <td>0.10</td>\n",
       "      <td>0.06</td>\n",
       "    </tr>\n",
       "  </tbody>\n",
       "</table>\n",
       "</div>"
      ],
      "text/plain": [
       "      feature_changed  value_before  value_after_change  prob  change\n",
       "45362          ELIX10           0.0                 1.0  0.37    0.33\n",
       "45362          ELIX22           0.0                 1.0  0.29    0.25\n",
       "45362          ELIX21           0.0                 1.0  0.25    0.21\n",
       "45362          ELIX14           0.0                 1.0  0.20    0.16\n",
       "45362           ELIX1           0.0                 1.0  0.19    0.15\n",
       "45362             G-7           0.0                 1.0  0.17    0.13\n",
       "45362          ELIX29           0.0                 1.0  0.14    0.10\n",
       "45362           ELIX9           0.0                 1.0  0.12    0.08\n",
       "45362           ELIX3           0.0                 1.0  0.11    0.07\n",
       "45362           ELIX6           0.0                 1.0  0.10    0.06"
      ]
     },
     "execution_count": 29,
     "metadata": {},
     "output_type": "execute_result"
    }
   ],
   "source": [
    "# features which increase the probability\n",
    "dat[dat['change']>0.00].sort_values('change',ascending=False)[:10]  "
   ]
  },
  {
   "cell_type": "code",
   "execution_count": null,
   "metadata": {},
   "outputs": [],
   "source": []
  }
 ],
 "metadata": {
  "kernelspec": {
   "display_name": "Python 3",
   "language": "python",
   "name": "python3"
  },
  "language_info": {
   "codemirror_mode": {
    "name": "ipython",
    "version": 3
   },
   "file_extension": ".py",
   "mimetype": "text/x-python",
   "name": "python",
   "nbconvert_exporter": "python",
   "pygments_lexer": "ipython3",
   "version": "3.6.5"
  }
 },
 "nbformat": 4,
 "nbformat_minor": 2
}
