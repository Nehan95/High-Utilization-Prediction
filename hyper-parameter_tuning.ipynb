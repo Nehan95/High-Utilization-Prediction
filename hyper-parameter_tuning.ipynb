{
 "cells": [
  {
   "cell_type": "code",
   "execution_count": 1,
   "metadata": {},
   "outputs": [
    {
     "name": "stderr",
     "output_type": "stream",
     "text": [
      "C:\\Users\\nagar\\Anaconda3\\lib\\site-packages\\sklearn\\ensemble\\weight_boosting.py:29: DeprecationWarning: numpy.core.umath_tests is an internal NumPy module and should not be imported. It will be removed in a future NumPy release.\n",
      "  from numpy.core.umath_tests import inner1d\n"
     ]
    }
   ],
   "source": [
    "import pandas as pd\n",
    "from sklearn.model_selection import train_test_split\n",
    "from sklearn.ensemble import RandomForestClassifier\n",
    "from sklearn.linear_model import LogisticRegression\n",
    "from sklearn.neighbors import KNeighborsClassifier\n",
    "from sklearn.model_selection import cross_validate\n",
    "from sklearn.model_selection import cross_val_score\n",
    "from sklearn.metrics import roc_auc_score\n",
    "import numpy as np\n",
    "from skopt.space import Integer, Categorical, Real\n",
    "from skopt.utils import use_named_args\n",
    "from skopt import gp_minimize\n",
    "import matplotlib.pyplot as plt"
   ]
  },
  {
   "cell_type": "code",
   "execution_count": 2,
   "metadata": {},
   "outputs": [],
   "source": [
    "df=pd.read_csv('highUtilizationPredictionV2wco.csv')\n",
    "race_dummies=pd.get_dummies(df['race'])\n",
    "newdf=pd.concat([df,race_dummies],axis=1)\n",
    "del newdf['race']\n",
    "del newdf['patient_id']\n",
    "Y=newdf['HighUtilizationY2']\n",
    "del newdf['HighUtilizationY2']\n",
    "del newdf['claimCount']"
   ]
  },
  {
   "cell_type": "code",
   "execution_count": 3,
   "metadata": {},
   "outputs": [],
   "source": [
    "X_train, X_test, y_train, y_test = train_test_split(newdf, Y, test_size=0.2)"
   ]
  },
  {
   "cell_type": "code",
   "execution_count": 4,
   "metadata": {},
   "outputs": [
    {
     "name": "stdout",
     "output_type": "stream",
     "text": [
      "Iteration No: 1 started. Evaluating function at random point.\n",
      "dict_values([33, 5, 'False', 5, 17])\n",
      "Iteration No: 1 ended. Evaluation done at random point.\n",
      "Time taken: 27.2302\n",
      "Function value obtained: -0.8170\n",
      "Current minimum: -0.8170\n",
      "Iteration No: 2 started. Evaluating function at random point.\n",
      "dict_values([51, 44, 'False', 10, 4])\n",
      "Iteration No: 2 ended. Evaluation done at random point.\n",
      "Time taken: 61.2592\n",
      "Function value obtained: -0.8071\n",
      "Current minimum: -0.8170\n",
      "Iteration No: 3 started. Evaluating function at random point.\n",
      "dict_values([40, 12, 'False', 8, 16])\n",
      "Iteration No: 3 ended. Evaluation done at random point.\n",
      "Time taken: 63.5051\n",
      "Function value obtained: -0.8167\n",
      "Current minimum: -0.8170\n",
      "Iteration No: 4 started. Evaluating function at random point.\n",
      "dict_values([15, 16, 'True', 7, 10])\n",
      "Iteration No: 4 ended. Evaluation done at random point.\n",
      "Time taken: 19.5507\n",
      "Function value obtained: -0.8183\n",
      "Current minimum: -0.8183\n",
      "Iteration No: 5 started. Evaluating function at random point.\n",
      "dict_values([25, 49, 'True', 8, 5])\n",
      "Iteration No: 5 ended. Evaluation done at random point.\n",
      "Time taken: 44.0283\n",
      "Function value obtained: -0.8113\n",
      "Current minimum: -0.8183\n",
      "Iteration No: 6 started. Evaluating function at random point.\n",
      "dict_values([45, 2, 'True', 9, 12])\n",
      "Iteration No: 6 ended. Evaluation done at random point.\n",
      "Time taken: 16.0411\n",
      "Function value obtained: -0.8194\n",
      "Current minimum: -0.8194\n",
      "Iteration No: 7 started. Evaluating function at random point.\n",
      "dict_values([44, 32, 'True', 9, 11])\n",
      "Iteration No: 7 ended. Evaluation done at random point.\n",
      "Time taken: 108.4519\n",
      "Function value obtained: -0.8199\n",
      "Current minimum: -0.8199\n",
      "Iteration No: 8 started. Evaluating function at random point.\n",
      "dict_values([45, 14, 'False', 8, 12])\n",
      "Iteration No: 8 ended. Evaluation done at random point.\n",
      "Time taken: 58.2971\n",
      "Function value obtained: -0.8214\n",
      "Current minimum: -0.8214\n",
      "Iteration No: 9 started. Evaluating function at random point.\n",
      "dict_values([56, 23, 'False', 4, 14])\n",
      "Iteration No: 9 ended. Evaluation done at random point.\n",
      "Time taken: 127.3284\n",
      "Function value obtained: -0.8155\n",
      "Current minimum: -0.8214\n",
      "Iteration No: 10 started. Evaluating function at random point.\n",
      "dict_values([18, 46, 'True', 3, 15])\n",
      "Iteration No: 10 ended. Evaluation done at random point.\n",
      "Time taken: 78.2757\n",
      "Function value obtained: -0.7978\n",
      "Current minimum: -0.8214\n",
      "Iteration No: 11 started. Searching for the next optimal point.\n",
      "dict_values([55, 2, 'True', 10, 7])\n",
      "Iteration No: 11 ended. Search finished for the next optimal point.\n",
      "Time taken: 13.1764\n",
      "Function value obtained: -0.8150\n",
      "Current minimum: -0.8214\n",
      "Iteration No: 12 started. Searching for the next optimal point.\n",
      "dict_values([60, 2, 'True', 7, 2])\n",
      "Iteration No: 12 ended. Search finished for the next optimal point.\n",
      "Time taken: 9.6202\n",
      "Function value obtained: -0.8057\n",
      "Current minimum: -0.8214\n",
      "Iteration No: 13 started. Searching for the next optimal point.\n",
      "dict_values([60, 2, 'False', 10, 20])\n",
      "Iteration No: 13 ended. Search finished for the next optimal point.\n",
      "Time taken: 30.9473\n",
      "Function value obtained: -0.8214\n",
      "Current minimum: -0.8214\n",
      "Iteration No: 14 started. Searching for the next optimal point.\n",
      "dict_values([60, 50, 'True', 8, 20])\n",
      "Iteration No: 14 ended. Search finished for the next optimal point.\n",
      "Time taken: 327.1851\n",
      "Function value obtained: -0.8001\n",
      "Current minimum: -0.8214\n",
      "Iteration No: 15 started. Searching for the next optimal point.\n",
      "dict_values([10, 2, 'True', 10, 20])\n",
      "Iteration No: 15 ended. Search finished for the next optimal point.\n",
      "Time taken: 6.7499\n",
      "Function value obtained: -0.8037\n",
      "Current minimum: -0.8214\n",
      "Iteration No: 16 started. Searching for the next optimal point.\n",
      "dict_values([10, 2, 'False', 9, 2])\n",
      "Iteration No: 16 ended. Search finished for the next optimal point.\n",
      "Time taken: 3.3790\n",
      "Function value obtained: -0.7761\n",
      "Current minimum: -0.8214\n",
      "Iteration No: 17 started. Searching for the next optimal point.\n",
      "dict_values([60, 50, 'True', 2, 8])\n",
      "Iteration No: 17 ended. Search finished for the next optimal point.\n",
      "Time taken: 170.6595\n",
      "Function value obtained: -0.8196\n",
      "Current minimum: -0.8214\n",
      "Iteration No: 18 started. Searching for the next optimal point.\n",
      "dict_values([60, 2, 'True', 3, 15])\n",
      "Iteration No: 18 ended. Search finished for the next optimal point.\n",
      "Time taken: 29.2208\n",
      "Function value obtained: -0.8205\n",
      "Current minimum: -0.8214\n",
      "Iteration No: 19 started. Searching for the next optimal point.\n",
      "dict_values([60, 50, 'True', 10, 2])\n",
      "Iteration No: 19 ended. Search finished for the next optimal point.\n",
      "Time taken: 46.3720\n",
      "Function value obtained: -0.7785\n",
      "Current minimum: -0.8214\n",
      "Iteration No: 20 started. Searching for the next optimal point.\n",
      "dict_values([60, 2, 'False', 2, 10])\n",
      "Iteration No: 20 ended. Search finished for the next optimal point.\n",
      "Time taken: 19.1108\n",
      "Function value obtained: -0.8184\n",
      "Current minimum: -0.8214\n"
     ]
    },
    {
     "data": {
      "text/plain": [
       "-0.8214"
      ]
     },
     "execution_count": 4,
     "metadata": {},
     "output_type": "execute_result"
    }
   ],
   "source": [
    "# Random Forest Classifier\n",
    "\n",
    "space = [Integer(10, 60, name='n_estimators'),Integer(2, 50, name='max_features'), Categorical(['True','False'], name='bootstrap'),Integer(2, 10, name='min_samples_split'),Integer(2, 20, name='max_depth')]\n",
    "@use_named_args(space)\n",
    "def objective(**params):\n",
    "    rf = RandomForestClassifier(**params)\n",
    "    print(locals()['params'].values())\n",
    "    return -np.mean(cross_val_score(rf, X_train, y_train, cv=10, n_jobs=1, scoring='roc_auc'))\n",
    "reg_gp = gp_minimize(objective, space, n_calls=20, verbose=True)\n",
    "round(min(reg_gp.func_vals),4)"
   ]
  },
  {
   "cell_type": "code",
   "execution_count": 5,
   "metadata": {},
   "outputs": [
    {
     "name": "stdout",
     "output_type": "stream",
     "text": [
      "AUC for Random forest -Default model: 0.7494067239477075\n",
      "AUC for Random forest -optimised hyper parameters model: 0.8303321959404272\n"
     ]
    }
   ],
   "source": [
    "# Random Forest default\n",
    "rf_d=RandomForestClassifier()\n",
    "rf_d.fit(X_train, y_train)\n",
    "rf_probs_ = rf_d.predict_proba(X_test)[:, 1]\n",
    "print(\"AUC for Random forest -Default model:\",roc_auc_score(y_test, rf_probs_))\n",
    "#Random Forest with optimised hyperparameters\n",
    "rf=RandomForestClassifier(n_estimators=60,max_features=2,bootstrap=False,min_samples_split=10,max_depth=20)\n",
    "rf.fit(X_train, y_train)\n",
    "rf_probs= rf.predict_proba(X_test)[:, 1]\n",
    "print(\"AUC for Random forest -optimised hyper parameters model:\",roc_auc_score(y_test, rf_probs))"
   ]
  },
  {
   "cell_type": "code",
   "execution_count": 6,
   "metadata": {},
   "outputs": [
    {
     "name": "stdout",
     "output_type": "stream",
     "text": [
      "Iteration No: 1 started. Evaluating function at random point.\n",
      "dict_values([4.166643867634362, 'newton-cg', None])\n",
      "Iteration No: 1 ended. Evaluation done at random point.\n",
      "Time taken: 218.2623\n",
      "Function value obtained: -0.8194\n",
      "Current minimum: -0.8194\n",
      "Iteration No: 2 started. Evaluating function at random point.\n",
      "dict_values([5.679053218771565, 'liblinear', 'balanced'])\n",
      "Iteration No: 2 ended. Evaluation done at random point.\n",
      "Time taken: 62.8170\n",
      "Function value obtained: -0.8211\n",
      "Current minimum: -0.8211\n",
      "Iteration No: 3 started. Evaluating function at random point.\n",
      "dict_values([5.017759378410835, 'lbfgs', 'balanced'])\n",
      "Iteration No: 3 ended. Evaluation done at random point.\n",
      "Time taken: 28.8085\n",
      "Function value obtained: -0.8189\n",
      "Current minimum: -0.8211\n",
      "Iteration No: 4 started. Evaluating function at random point.\n",
      "dict_values([2.366210231421986, 'newton-cg', 'balanced'])\n",
      "Iteration No: 4 ended. Evaluation done at random point.\n",
      "Time taken: 217.1520\n",
      "Function value obtained: -0.8211\n",
      "Current minimum: -0.8211\n",
      "Iteration No: 5 started. Evaluating function at random point.\n",
      "dict_values([0.339645269627561, 'lbfgs', None])\n",
      "Iteration No: 5 ended. Evaluation done at random point.\n",
      "Time taken: 25.0543\n",
      "Function value obtained: -0.8095\n",
      "Current minimum: -0.8211\n",
      "Iteration No: 6 started. Evaluating function at random point.\n",
      "dict_values([9.61564597969012, 'lbfgs', 'balanced'])\n",
      "Iteration No: 6 ended. Evaluation done at random point.\n",
      "Time taken: 24.8097\n",
      "Function value obtained: -0.8187\n",
      "Current minimum: -0.8211\n",
      "Iteration No: 7 started. Evaluating function at random point.\n",
      "dict_values([1.1505957663053803, 'liblinear', 'balanced'])\n",
      "Iteration No: 7 ended. Evaluation done at random point.\n",
      "Time taken: 46.2004\n",
      "Function value obtained: -0.8211\n",
      "Current minimum: -0.8211\n",
      "Iteration No: 8 started. Evaluating function at random point.\n",
      "dict_values([1.3042101907169559, 'newton-cg', 'balanced'])\n",
      "Iteration No: 8 ended. Evaluation done at random point.\n",
      "Time taken: 185.5189\n",
      "Function value obtained: -0.8211\n",
      "Current minimum: -0.8211\n",
      "Iteration No: 9 started. Evaluating function at random point.\n",
      "dict_values([8.078482978870289, 'lbfgs', 'balanced'])\n",
      "Iteration No: 9 ended. Evaluation done at random point.\n",
      "Time taken: 26.1268\n",
      "Function value obtained: -0.8191\n",
      "Current minimum: -0.8211\n",
      "Iteration No: 10 started. Evaluating function at random point.\n",
      "dict_values([7.078863966262141, 'lbfgs', 'balanced'])\n",
      "Iteration No: 10 ended. Evaluation done at random point.\n",
      "Time taken: 24.4773\n",
      "Function value obtained: -0.8187\n",
      "Current minimum: -0.8211\n"
     ]
    },
    {
     "data": {
      "text/plain": [
       "-0.8211"
      ]
     },
     "execution_count": 6,
     "metadata": {},
     "output_type": "execute_result"
    }
   ],
   "source": [
    "# Logistic Regression\n",
    "space = [Real(0, 10, name='C'), Categorical(['newton-cg', 'lbfgs', 'liblinear'], name='solver'),Categorical([None,'balanced'],name='class_weight')]\n",
    "@use_named_args(space)\n",
    "def objective(**params):\n",
    "    lr = LogisticRegression(**params)\n",
    "    print(locals()['params'].values())\n",
    "    return -np.mean(cross_val_score(lr, X_train, y_train, cv=10, n_jobs=1, scoring='roc_auc'))\n",
    "reg_gp = gp_minimize(objective, space, n_calls=10, verbose=True)\n",
    "round(min(reg_gp.func_vals),4)"
   ]
  },
  {
   "cell_type": "code",
   "execution_count": 11,
   "metadata": {},
   "outputs": [
    {
     "name": "stdout",
     "output_type": "stream",
     "text": [
      "AUC for Logistic Regression -Default model: 0.8275745034008416\n",
      "AUC for Logistic Regression -optimised hyper parameters model: 0.8303393459788957\n"
     ]
    }
   ],
   "source": [
    "#Logistic Regression default\n",
    "logmodel_d = LogisticRegression()\n",
    "logmodel_d.fit(X_train, y_train)\n",
    "lr_probs_ = logmodel_d.predict_proba(X_test)[:, 1]\n",
    "print(\"AUC for Logistic Regression -Default model:\",roc_auc_score(y_test, lr_probs_))\n",
    "#Logistic regression with optimised hyperparameters\n",
    "logmodel = LogisticRegression(C=5.679053218771565,solver='liblinear',class_weight='balanced')\n",
    "logmodel.fit(X_train, y_train)\n",
    "lr_probs= logmodel.predict_proba(X_test)[:, 1]\n",
    "print(\"AUC for Logistic Regression -optimised hyper parameters model:\",roc_auc_score(y_test, lr_probs))"
   ]
  },
  {
   "cell_type": "code",
   "execution_count": 8,
   "metadata": {},
   "outputs": [
    {
     "name": "stdout",
     "output_type": "stream",
     "text": [
      "Iteration No: 1 started. Evaluating function at random point.\n",
      "dict_values(['gini', 26, 'random', 7, 13])\n",
      "Iteration No: 1 ended. Evaluation done at random point.\n",
      "Time taken: 4.6496\n",
      "Function value obtained: -0.7106\n",
      "Current minimum: -0.7106\n",
      "Iteration No: 2 started. Evaluating function at random point.\n",
      "dict_values(['entropy', 46, 'random', 7, 17])\n",
      "Iteration No: 2 ended. Evaluation done at random point.\n",
      "Time taken: 8.4454\n",
      "Function value obtained: -0.6200\n",
      "Current minimum: -0.7106\n",
      "Iteration No: 3 started. Evaluating function at random point.\n",
      "dict_values(['entropy', 32, 'random', 5, 19])\n",
      "Iteration No: 3 ended. Evaluation done at random point.\n",
      "Time taken: 6.5465\n",
      "Function value obtained: -0.5909\n",
      "Current minimum: -0.7106\n",
      "Iteration No: 4 started. Evaluating function at random point.\n",
      "dict_values(['gini', 5, 'best', 6, 8])\n",
      "Iteration No: 4 ended. Evaluation done at random point.\n",
      "Time taken: 1.5279\n",
      "Function value obtained: -0.7702\n",
      "Current minimum: -0.7702\n",
      "Iteration No: 5 started. Evaluating function at random point.\n",
      "dict_values(['gini', 12, 'random', 5, 2])\n",
      "Iteration No: 5 ended. Evaluation done at random point.\n",
      "Time taken: 1.1509\n",
      "Function value obtained: -0.7036\n",
      "Current minimum: -0.7702\n",
      "Iteration No: 6 started. Evaluating function at random point.\n",
      "dict_values(['gini', 28, 'best', 7, 9])\n",
      "Iteration No: 6 ended. Evaluation done at random point.\n",
      "Time taken: 3.7919\n",
      "Function value obtained: -0.7857\n",
      "Current minimum: -0.7857\n",
      "Iteration No: 7 started. Evaluating function at random point.\n",
      "dict_values(['entropy', 41, 'random', 7, 10])\n",
      "Iteration No: 7 ended. Evaluation done at random point.\n",
      "Time taken: 4.7403\n",
      "Function value obtained: -0.7703\n",
      "Current minimum: -0.7857\n",
      "Iteration No: 8 started. Evaluating function at random point.\n",
      "dict_values(['gini', 8, 'random', 9, 13])\n",
      "Iteration No: 8 ended. Evaluation done at random point.\n",
      "Time taken: 2.1981\n",
      "Function value obtained: -0.7351\n",
      "Current minimum: -0.7857\n",
      "Iteration No: 9 started. Evaluating function at random point.\n",
      "dict_values(['entropy', 13, 'best', 4, 11])\n",
      "Iteration No: 9 ended. Evaluation done at random point.\n",
      "Time taken: 2.6778\n",
      "Function value obtained: -0.7416\n",
      "Current minimum: -0.7857\n",
      "Iteration No: 10 started. Evaluating function at random point.\n",
      "dict_values(['entropy', 35, 'random', 5, 14])\n",
      "Iteration No: 10 ended. Evaluation done at random point.\n",
      "Time taken: 6.3986\n",
      "Function value obtained: -0.6692\n",
      "Current minimum: -0.7857\n",
      "Iteration No: 11 started. Searching for the next optimal point.\n",
      "dict_values(['entropy', 2, 'best', 10, 8])\n",
      "Iteration No: 11 ended. Search finished for the next optimal point.\n",
      "Time taken: 1.6329\n",
      "Function value obtained: -0.7517\n",
      "Current minimum: -0.7857\n",
      "Iteration No: 12 started. Searching for the next optimal point.\n",
      "dict_values(['gini', 50, 'random', 2, 8])\n",
      "Iteration No: 12 ended. Search finished for the next optimal point.\n",
      "Time taken: 5.3976\n",
      "Function value obtained: -0.7970\n",
      "Current minimum: -0.7970\n",
      "Iteration No: 13 started. Searching for the next optimal point.\n",
      "dict_values(['entropy', 50, 'best', 10, 5])\n",
      "Iteration No: 13 ended. Search finished for the next optimal point.\n",
      "Time taken: 3.8150\n",
      "Function value obtained: -0.7890\n",
      "Current minimum: -0.7970\n",
      "Iteration No: 14 started. Searching for the next optimal point.\n",
      "dict_values(['gini', 39, 'random', 10, 7])\n",
      "Iteration No: 14 ended. Search finished for the next optimal point.\n",
      "Time taken: 3.9604\n",
      "Function value obtained: -0.7975\n",
      "Current minimum: -0.7975\n",
      "Iteration No: 15 started. Searching for the next optimal point.\n",
      "dict_values(['gini', 50, 'best', 4, 2])\n",
      "Iteration No: 15 ended. Search finished for the next optimal point.\n",
      "Time taken: 2.3009\n",
      "Function value obtained: -0.7250\n",
      "Current minimum: -0.7975\n",
      "Iteration No: 16 started. Searching for the next optimal point.\n",
      "dict_values(['entropy', 50, 'best', 2, 7])\n",
      "Iteration No: 16 ended. Search finished for the next optimal point.\n",
      "Time taken: 5.0844\n",
      "Function value obtained: -0.7960\n",
      "Current minimum: -0.7975\n",
      "Iteration No: 17 started. Searching for the next optimal point.\n",
      "dict_values(['gini', 50, 'best', 10, 7])\n",
      "Iteration No: 17 ended. Search finished for the next optimal point.\n",
      "Time taken: 5.0246\n",
      "Function value obtained: -0.7982\n",
      "Current minimum: -0.7982\n",
      "Iteration No: 18 started. Searching for the next optimal point.\n",
      "dict_values(['entropy', 38, 'random', 2, 7])\n",
      "Iteration No: 18 ended. Search finished for the next optimal point.\n",
      "Time taken: 4.4431\n",
      "Function value obtained: -0.7975\n",
      "Current minimum: -0.7982\n",
      "Iteration No: 19 started. Searching for the next optimal point.\n",
      "dict_values(['gini', 34, 'best', 2, 6])\n",
      "Iteration No: 19 ended. Search finished for the next optimal point.\n",
      "Time taken: 3.6393\n",
      "Function value obtained: -0.7923\n",
      "Current minimum: -0.7982\n",
      "Iteration No: 20 started. Searching for the next optimal point.\n",
      "dict_values(['gini', 43, 'random', 2, 7])\n",
      "Iteration No: 20 ended. Search finished for the next optimal point.\n",
      "Time taken: 4.5259\n",
      "Function value obtained: -0.7960\n",
      "Current minimum: -0.7982\n"
     ]
    },
    {
     "data": {
      "text/plain": [
       "-0.7982"
      ]
     },
     "execution_count": 8,
     "metadata": {},
     "output_type": "execute_result"
    }
   ],
   "source": [
    "from sklearn.tree import DecisionTreeClassifier\n",
    "\n",
    "\n",
    "space = [Categorical(['gini','entropy'], name='criterion'),Integer(2, 50, name='max_features'), Categorical(['best','random'], name='splitter'),Integer(2, 10, name='min_samples_split'),Integer(2, 20, name='max_depth')]\n",
    "@use_named_args(space)\n",
    "def objective(**params):\n",
    "    dt = DecisionTreeClassifier(**params)\n",
    "    print(locals()['params'].values())\n",
    "    return -np.mean(cross_val_score(dt, X_train, y_train, cv=10, n_jobs=1, scoring='roc_auc'))\n",
    "reg_gp = gp_minimize(objective, space, n_calls=20, verbose=True)\n",
    "round(min(reg_gp.func_vals),4)"
   ]
  },
  {
   "cell_type": "code",
   "execution_count": 9,
   "metadata": {},
   "outputs": [
    {
     "name": "stdout",
     "output_type": "stream",
     "text": [
      "AUC for Decision Trees -Default model: 0.591860070912922\n",
      "AUC for Decision Trees -optimised hyper parameters model: 0.7994211947237612\n"
     ]
    }
   ],
   "source": [
    "#Decision Trees default\n",
    "dt_d = DecisionTreeClassifier()\n",
    "dt_d.fit(X_train, y_train)\n",
    "dt_probs_ = dt_d.predict_proba(X_test)[:, 1]\n",
    "print(\"AUC for Decision Trees -Default model:\",roc_auc_score(y_test, dt_probs_))\n",
    "#Decision Trees with optimised hyperparameters\n",
    "dt = DecisionTreeClassifier(criterion='gini',max_features=50,splitter='best',min_samples_split=10,max_depth=7)\n",
    "dt.fit(X_train, y_train)\n",
    "dt_probs= dt.predict_proba(X_test)[:, 1]\n",
    "print(\"AUC for Decision Trees -optimised hyper parameters model:\",roc_auc_score(y_test, dt_probs))"
   ]
  },
  {
   "cell_type": "code",
   "execution_count": 7,
   "metadata": {},
   "outputs": [],
   "source": [
    "# PART 2\n",
    "\n",
    "params={\"C\": [0.01,0.1,0.2,0.4,0.6,0.8,1,2.5,5,7.5,10]}\n",
    "\n",
    "from sklearn.metrics import auc\n",
    "from sklearn.metrics import roc_curve\n",
    "res_lr = []\n",
    "for c in params[\"C\"]:\n",
    "    lr = LogisticRegression(C=c, penalty='l1')\n",
    "    scores = [c, cross_validate(lr, X_train, y_train, scoring=['roc_auc','accuracy'], cv=10)]\n",
    "    res_lr.append(scores)\n",
    "    \n",
    "res_df = pd.DataFrame(columns=[\"C\",'solver',\"score\",\"score_val0\",\"score_val1\",\"score_val2\",\"score_val3\",\"score_val4\",\"score_val5\",\"score_val6\",\"score_val7\",\"score_val8\",\"score_val9\",])\n",
    "\n",
    "cnt=0\n",
    "for r in res_lr:\n",
    "    for k,v in r[1].items():\n",
    "        l = [r[0]]\n",
    "        l.append('lbfgs')\n",
    "        l.append(k)\n",
    "        for i in v:\n",
    "            l.append(i)\n",
    "        res_df.loc[cnt]=l  \n",
    "        cnt = cnt + 1\n",
    "        \n",
    "res_df['average'] = res_df[[\"score_val0\",\"score_val1\",\"score_val2\",\"score_val3\",\"score_val4\",\"score_val5\",\"score_val6\",\"score_val7\",\"score_val8\",\"score_val9\"]].mean(numeric_only=True, axis=1)\n",
    "\n"
   ]
  },
  {
   "cell_type": "code",
   "execution_count": 11,
   "metadata": {
    "scrolled": true
   },
   "outputs": [
    {
     "data": {
      "image/png": "[encoded data removed]",
      "text/plain": [
       "<Figure size 432x288 with 1 Axes>"
      ]
     },
     "metadata": {},
     "output_type": "display_data"
    }
   ],
   "source": [
    "c=[0.01,0.1,0.2,0.4,0.6,0.8,1,2.5,5,7.5,10]\n",
    "roc_test=res_df.loc[res_df['score']=='test_roc_auc','average']\n",
    "roc_train=res_df.loc[res_df['score']=='train_roc_auc','average']\n",
    "plt.plot(c,roc_train,label='train')\n",
    "plt.plot(c,roc_test,label='test')\n",
    "plt.xlabel('C')\n",
    "plt.ylabel('roc_auc')\n",
    "plt.legend()\n",
    "plt.show()"
   ]
  },
  {
   "cell_type": "code",
   "execution_count": 9,
   "metadata": {},
   "outputs": [
    {
     "data": {
      "image/png": "[encoded data removed]",
      "text/plain": [
       "<Figure size 432x288 with 1 Axes>"
      ]
     },
     "metadata": {},
     "output_type": "display_data"
    }
   ],
   "source": [
    "c=[0.01,0.1,0.2,0.4,0.6,0.8,1,2.5,5,7.5,10]\n",
    "roc_test=res_df.loc[res_df['score']=='test_accuracy','average']\n",
    "roc_train=res_df.loc[res_df['score']=='train_accuracy','average']\n",
    "plt.plot(c,roc_train,label='train')\n",
    "plt.plot(c,roc_test,label='test')\n",
    "plt.xlabel('C')\n",
    "plt.ylabel('accuracy')\n",
    "plt.legend()\n",
    "plt.show()"
   ]
  },
  {
   "cell_type": "code",
   "execution_count": null,
   "metadata": {},
   "outputs": [],
   "source": []
  }
 ],
 "metadata": {
  "kernelspec": {
   "display_name": "Python 3",
   "language": "python",
   "name": "python3"
  },
  "language_info": {
   "codemirror_mode": {
    "name": "ipython",
    "version": 3
   },
   "file_extension": ".py",
   "mimetype": "text/x-python",
   "name": "python",
   "nbconvert_exporter": "python",
   "pygments_lexer": "ipython3",
   "version": "3.6.5"
  }
 },
 "nbformat": 4,
 "nbformat_minor": 2
}
